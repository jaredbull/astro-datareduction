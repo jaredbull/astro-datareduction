# sets up dark mode for jupyter notebook
# can be changed to other themes as listed in package documentation

import jupyterthemes as jt
from jupyterthemes import get_themes
from jupyterthemes.stylefx import set_nb_theme

get_ipython().system('jt -l')

get_ipython().system('jt -t oceans16 -T -N -kl')

get_ipython().system('jt -r')
