{
 "cells": [
  {
   "cell_type": "code",
   "execution_count": null,
   "id": "e3e349bd",
   "metadata": {},
   "outputs": [],
   "source": [
    "# sets up dark mode for jupyter notebook\n",
    "\n",
    "# install jupyterthemes if not already installed\n",
    "\n",
    "import sys\n",
    "!{sys.executable} -m pip install jupyterthemes"
   ]
  },
  {
   "cell_type": "code",
   "execution_count": 3,
   "id": "494a8442",
   "metadata": {},
   "outputs": [
    {
     "name": "stdout",
     "output_type": "stream",
     "text": [
      "Available Themes: \n",
      "   chesterish\n",
      "   grade3\n",
      "   gruvboxd\n",
      "   gruvboxl\n",
      "   monokai\n",
      "   oceans16\n",
      "   onedork\n",
      "   solarizedd\n",
      "   solarizedl\n"
     ]
    }
   ],
   "source": [
    "# after running cell, a restart is required to see changes\n",
    "\n",
    "import jupyterthemes as jt\n",
    "from jupyterthemes import get_themes\n",
    "from jupyterthemes.stylefx import set_nb_theme\n",
    "\n",
    "# list available themes\n",
    "\n",
    "get_ipython().system('jt -l')\n",
    "\n",
    "get_ipython().system('jt -t oceans16 -T -N -kl')\n",
    "\n",
    "# use command 'get_ipython().system('jt -r')' to reset to default"
   ]
  }
 ],
 "metadata": {
  "kernelspec": {
   "display_name": "Python 3 (ipykernel)",
   "language": "python",
   "name": "python3"
  },
  "language_info": {
   "codemirror_mode": {
    "name": "ipython",
    "version": 3
   },
   "file_extension": ".py",
   "mimetype": "text/x-python",
   "name": "python",
   "nbconvert_exporter": "python",
   "pygments_lexer": "ipython3",
   "version": "3.9.12"
  }
 },
 "nbformat": 4,
 "nbformat_minor": 5
}
